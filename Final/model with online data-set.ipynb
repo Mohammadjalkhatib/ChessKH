{
 "cells": [
  {
   "cell_type": "code",
   "execution_count": 1,
   "metadata": {
    "colab": {
     "base_uri": "https://localhost:8080/"
    },
    "id": "q_s9cesHs94Q",
    "outputId": "98d4cc80-d1cb-4e24-bad2-564420fe8819"
   },
   "outputs": [
    {
     "name": "stdout",
     "output_type": "stream",
     "text": [
      "Done\n"
     ]
    }
   ],
   "source": [
    "from zipfile import ZipFile\n",
    "\n",
    "file_name = 'Compressed.zip'\n",
    "\n",
    "with ZipFile(file_name, 'r') as f:\n",
    "  f.extractall()\n",
    "  print(\"Done\")"
   ]
  },
  {
   "cell_type": "code",
   "execution_count": 5,
   "metadata": {
    "id": "YNBFAMmDuXdU"
   },
   "outputs": [],
   "source": [
    "import numpy as np\n",
    "import pandas as pd\n",
    "import matplotlib.pyplot as plt\n",
    "from glob import glob\n",
    "import sklearn.metrics as metrics\n",
    "import tensorflow as tf\n",
    "from keras.preprocessing.image import ImageDataGenerator\n",
    "from tensorflow.keras.models import Model\n",
    "from tensorflow.keras.layers import Flatten, Dense\n",
    "from tensorflow.keras.applications import VGG16\n",
    "import cv2\n",
    "import imghdr\n",
    "import os\n",
    "import numpy as np\n",
    "from matplotlib import pyplot as plt"
   ]
  },
  {
   "cell_type": "code",
   "execution_count": 6,
   "metadata": {
    "colab": {
     "base_uri": "https://localhost:8080/"
    },
    "id": "Kd06BH4o4QwU",
    "outputId": "4f07477f-4e75-4d04-8a2c-eccf2af8764f"
   },
   "outputs": [
    {
     "ename": "SyntaxError",
     "evalue": "invalid syntax (2991133134.py, line 1)",
     "output_type": "error",
     "traceback": [
      "\u001b[1;36m  Cell \u001b[1;32mIn[6], line 1\u001b[1;36m\u001b[0m\n\u001b[1;33m    rm train/.DS_Store\u001b[0m\n\u001b[1;37m       ^\u001b[0m\n\u001b[1;31mSyntaxError\u001b[0m\u001b[1;31m:\u001b[0m invalid syntax\n"
     ]
    }
   ],
   "source": [
    "rm train/.DS_Store"
   ]
  },
  {
   "cell_type": "code",
   "execution_count": 7,
   "metadata": {
    "colab": {
     "base_uri": "https://localhost:8080/"
    },
    "id": "7aarwFB44Y6J",
    "outputId": "b7dfee4a-2be8-476e-f4a2-0d2974e79939"
   },
   "outputs": [
    {
     "ename": "SyntaxError",
     "evalue": "invalid syntax (1353604529.py, line 1)",
     "output_type": "error",
     "traceback": [
      "\u001b[1;36m  Cell \u001b[1;32mIn[7], line 1\u001b[1;36m\u001b[0m\n\u001b[1;33m    rm test/.DS_Store\u001b[0m\n\u001b[1;37m       ^\u001b[0m\n\u001b[1;31mSyntaxError\u001b[0m\u001b[1;31m:\u001b[0m invalid syntax\n"
     ]
    }
   ],
   "source": [
    "rm test/.DS_Store"
   ]
  },
  {
   "cell_type": "code",
   "execution_count": 8,
   "metadata": {
    "colab": {
     "base_uri": "https://localhost:8080/"
    },
    "id": "JqaZJ1IFubui",
    "outputId": "dc3bcadc-85b7-4fe8-e58d-591231e4be0d"
   },
   "outputs": [
    {
     "name": "stdout",
     "output_type": "stream",
     "text": [
      "bb\n",
      "bk\n",
      "bn\n",
      "bp\n",
      "bq\n",
      "br\n",
      "empty\n",
      "wb\n",
      "wk\n",
      "wn\n",
      "wp\n",
      "wq\n",
      "wr\n",
      "bb\n",
      "bk\n",
      "bn\n",
      "bp\n",
      "bq\n",
      "br\n",
      "empty\n",
      "wb\n",
      "wk\n",
      "wn\n",
      "wp\n",
      "wq\n",
      "wr\n",
      "bb\n",
      "bk\n",
      "bn\n",
      "bp\n",
      "bq\n",
      "br\n",
      "empty\n",
      "wb\n",
      "wk\n",
      "wn\n",
      "wp\n",
      "wq\n",
      "wr\n"
     ]
    }
   ],
   "source": [
    "folders = ['train','valid','test']\n",
    "image_exts = ['jpeg','jpg', 'bmp', 'png']\n",
    "\n",
    "for folder in folders:\n",
    "  for image_class in os.listdir(folder): \n",
    "      print(image_class)\n",
    "      for image in os.listdir(os.path.join(folder, image_class)):\n",
    "          image_path = os.path.join(folder, image_class, image)\n",
    "          try: \n",
    "              img = cv2.imread(image_path)\n",
    "              tip = imghdr.what(image_path)\n",
    "              if tip not in image_exts: \n",
    "                  print('Image not in ext list {}'.format(image_path))\n",
    "                  os.remove(image_path)\n",
    "          except Exception as e: \n",
    "              print('Issue with image {}'.format(image_path))\n",
    "              # os.remove(image_path)"
   ]
  },
  {
   "cell_type": "code",
   "execution_count": 9,
   "metadata": {
    "colab": {
     "base_uri": "https://localhost:8080/"
    },
    "id": "1W-2rtJM4e8f",
    "outputId": "7da72530-0eb1-416c-e8ee-d446cd5a9d41"
   },
   "outputs": [
    {
     "name": "stdout",
     "output_type": "stream",
     "text": [
      "Found 1936 images belonging to 13 classes.\n",
      "Found 236 images belonging to 13 classes.\n",
      "Found 234 images belonging to 13 classes.\n"
     ]
    }
   ],
   "source": [
    "trdata = ImageDataGenerator()\n",
    "train_data_gen = trdata.flow_from_directory(directory=\"train\", target_size=(256,256), shuffle=True, class_mode=\"sparse\")\n",
    "\n",
    "vddata = ImageDataGenerator()\n",
    "validation_data_gen = trdata.flow_from_directory(directory=\"valid\", target_size=(256,256), shuffle=True, class_mode=\"sparse\")\n",
    "\n",
    "tsdata = ImageDataGenerator()\n",
    "test_data_gen = tsdata.flow_from_directory(directory=\"test\", target_size=(256,256),shuffle=True, class_mode=\"sparse\")"
   ]
  },
  {
   "cell_type": "code",
   "execution_count": 12,
   "metadata": {
    "colab": {
     "base_uri": "https://localhost:8080/"
    },
    "id": "iOuDgbB_5S78",
    "outputId": "b12d710d-7ffb-42ac-8c19-36abbfc61765"
   },
   "outputs": [],
   "source": [
    "vgg = VGG16(input_shape = (256,256,3), weights = \"imagenet\", include_top = False)\n",
    "for layer in vgg.layers:\n",
    " layer.trainable = False\n",
    "x = Flatten()(vgg.output)\n",
    "x = Dense(128, activation = \"relu\", kernel_initializer=\"he_normal\")(x) \n",
    "x = tf.keras.layers.BatchNormalization()(x)\n",
    "x = tf.keras.layers.Dropout(rate=0.5)(x)\n",
    "x = Dense(64, activation = \"relu\", kernel_initializer=\"he_normal\")(x) \n",
    "x = tf.keras.layers.BatchNormalization()(x)\n",
    "x = tf.keras.layers.Dropout(rate=0.5)(x)\n",
    "x = Dense(13, activation = \"softmax\")(x) \n",
    "model = Model(inputs = vgg.input, outputs = x)\n",
    "\n",
    "optimizer = tf.keras.optimizers.SGD(learning_rate=0.001, momentum=0.9, nesterov=True)\n",
    "model.compile(loss=\"sparse_categorical_crossentropy\", optimizer=optimizer, metrics=[\"accuracy\"])"
   ]
  },
  {
   "cell_type": "code",
   "execution_count": 14,
   "metadata": {},
   "outputs": [
    {
     "name": "stdout",
     "output_type": "stream",
     "text": [
      "Model: \"model_2\"\n",
      "_________________________________________________________________\n",
      " Layer (type)                Output Shape              Param #   \n",
      "=================================================================\n",
      " input_3 (InputLayer)        [(None, 256, 256, 3)]     0         \n",
      "                                                                 \n",
      " block1_conv1 (Conv2D)       (None, 256, 256, 64)      1792      \n",
      "                                                                 \n",
      " block1_conv2 (Conv2D)       (None, 256, 256, 64)      36928     \n",
      "                                                                 \n",
      " block1_pool (MaxPooling2D)  (None, 128, 128, 64)      0         \n",
      "                                                                 \n",
      " block2_conv1 (Conv2D)       (None, 128, 128, 128)     73856     \n",
      "                                                                 \n",
      " block2_conv2 (Conv2D)       (None, 128, 128, 128)     147584    \n",
      "                                                                 \n",
      " block2_pool (MaxPooling2D)  (None, 64, 64, 128)       0         \n",
      "                                                                 \n",
      " block3_conv1 (Conv2D)       (None, 64, 64, 256)       295168    \n",
      "                                                                 \n",
      " block3_conv2 (Conv2D)       (None, 64, 64, 256)       590080    \n",
      "                                                                 \n",
      " block3_conv3 (Conv2D)       (None, 64, 64, 256)       590080    \n",
      "                                                                 \n",
      " block3_pool (MaxPooling2D)  (None, 32, 32, 256)       0         \n",
      "                                                                 \n",
      " block4_conv1 (Conv2D)       (None, 32, 32, 512)       1180160   \n",
      "                                                                 \n",
      " block4_conv2 (Conv2D)       (None, 32, 32, 512)       2359808   \n",
      "                                                                 \n",
      " block4_conv3 (Conv2D)       (None, 32, 32, 512)       2359808   \n",
      "                                                                 \n",
      " block4_pool (MaxPooling2D)  (None, 16, 16, 512)       0         \n",
      "                                                                 \n",
      " block5_conv1 (Conv2D)       (None, 16, 16, 512)       2359808   \n",
      "                                                                 \n",
      " block5_conv2 (Conv2D)       (None, 16, 16, 512)       2359808   \n",
      "                                                                 \n",
      " block5_conv3 (Conv2D)       (None, 16, 16, 512)       2359808   \n",
      "                                                                 \n",
      " block5_pool (MaxPooling2D)  (None, 8, 8, 512)         0         \n",
      "                                                                 \n",
      " flatten_2 (Flatten)         (None, 32768)             0         \n",
      "                                                                 \n",
      " dense_6 (Dense)             (None, 128)               4194432   \n",
      "                                                                 \n",
      " batch_normalization_4 (Batc  (None, 128)              512       \n",
      " hNormalization)                                                 \n",
      "                                                                 \n",
      " dropout_4 (Dropout)         (None, 128)               0         \n",
      "                                                                 \n",
      " dense_7 (Dense)             (None, 64)                8256      \n",
      "                                                                 \n",
      " batch_normalization_5 (Batc  (None, 64)               256       \n",
      " hNormalization)                                                 \n",
      "                                                                 \n",
      " dropout_5 (Dropout)         (None, 64)                0         \n",
      "                                                                 \n",
      " dense_8 (Dense)             (None, 13)                845       \n",
      "                                                                 \n",
      "=================================================================\n",
      "Total params: 18,918,989\n",
      "Trainable params: 4,203,917\n",
      "Non-trainable params: 14,715,072\n",
      "_________________________________________________________________\n"
     ]
    }
   ],
   "source": [
    "model.summary()"
   ]
  },
  {
   "cell_type": "code",
   "execution_count": 13,
   "metadata": {
    "colab": {
     "base_uri": "https://localhost:8080/",
     "height": 252
    },
    "id": "-s4nkMQt51Au",
    "outputId": "ef1009a3-c786-4504-a40e-480d309f9062"
   },
   "outputs": [
    {
     "name": "stdout",
     "output_type": "stream",
     "text": [
      "Epoch 1/20\n",
      "61/61 [==============================] - 837s 14s/step - loss: 2.6932 - accuracy: 0.2299 - val_loss: 2.6928 - val_accuracy: 0.3856\n",
      "Epoch 2/20\n",
      "61/61 [==============================] - 842s 14s/step - loss: 1.8657 - accuracy: 0.4117 - val_loss: 1.3922 - val_accuracy: 0.5593\n",
      "Epoch 3/20\n",
      "61/61 [==============================] - 835s 14s/step - loss: 1.4511 - accuracy: 0.5186 - val_loss: 1.0061 - val_accuracy: 0.7076\n",
      "Epoch 4/20\n",
      "61/61 [==============================] - 837s 14s/step - loss: 1.1954 - accuracy: 0.5987 - val_loss: 0.9301 - val_accuracy: 0.7119\n",
      "Epoch 5/20\n",
      "61/61 [==============================] - 825s 14s/step - loss: 1.0479 - accuracy: 0.6498 - val_loss: 0.8106 - val_accuracy: 0.7754\n",
      "Epoch 6/20\n",
      "61/61 [==============================] - 832s 14s/step - loss: 0.8775 - accuracy: 0.7087 - val_loss: 0.7559 - val_accuracy: 0.7839\n",
      "Epoch 7/20\n",
      "61/61 [==============================] - 831s 14s/step - loss: 0.7825 - accuracy: 0.7454 - val_loss: 0.6846 - val_accuracy: 0.7924\n",
      "Epoch 8/20\n",
      "61/61 [==============================] - 831s 14s/step - loss: 0.6891 - accuracy: 0.7924 - val_loss: 0.6183 - val_accuracy: 0.8475\n",
      "Epoch 9/20\n",
      "61/61 [==============================] - 832s 14s/step - loss: 0.5883 - accuracy: 0.8208 - val_loss: 0.5747 - val_accuracy: 0.8602\n",
      "Epoch 10/20\n",
      "61/61 [==============================] - 829s 14s/step - loss: 0.5626 - accuracy: 0.8249 - val_loss: 0.5848 - val_accuracy: 0.8305\n",
      "Epoch 11/20\n",
      "61/61 [==============================] - 835s 14s/step - loss: 0.5122 - accuracy: 0.8502 - val_loss: 0.5387 - val_accuracy: 0.8517\n",
      "Epoch 12/20\n",
      "61/61 [==============================] - 834s 14s/step - loss: 0.4596 - accuracy: 0.8735 - val_loss: 0.5160 - val_accuracy: 0.8559\n",
      "Epoch 13/20\n",
      "61/61 [==============================] - 831s 14s/step - loss: 0.3913 - accuracy: 0.8920 - val_loss: 0.5124 - val_accuracy: 0.8517\n",
      "Epoch 14/20\n",
      "61/61 [==============================] - 819s 13s/step - loss: 0.3855 - accuracy: 0.8889 - val_loss: 0.4927 - val_accuracy: 0.8432\n",
      "Epoch 15/20\n",
      "61/61 [==============================] - 833s 14s/step - loss: 0.3448 - accuracy: 0.9148 - val_loss: 0.4968 - val_accuracy: 0.8475\n",
      "Epoch 16/20\n",
      "61/61 [==============================] - 832s 14s/step - loss: 0.3243 - accuracy: 0.9122 - val_loss: 0.4864 - val_accuracy: 0.8432\n",
      "Epoch 17/20\n",
      "61/61 [==============================] - 834s 14s/step - loss: 0.3196 - accuracy: 0.9168 - val_loss: 0.4975 - val_accuracy: 0.8559\n",
      "Epoch 18/20\n",
      "61/61 [==============================] - 831s 14s/step - loss: 0.2795 - accuracy: 0.9298 - val_loss: 0.4699 - val_accuracy: 0.8517\n",
      "Epoch 19/20\n",
      "61/61 [==============================] - 830s 14s/step - loss: 0.2750 - accuracy: 0.9390 - val_loss: 0.4590 - val_accuracy: 0.8559\n",
      "Epoch 20/20\n",
      "61/61 [==============================] - 832s 14s/step - loss: 0.2584 - accuracy: 0.9344 - val_loss: 0.4628 - val_accuracy: 0.8517\n"
     ]
    },
    {
     "data": {
      "text/plain": [
       "<keras.callbacks.History at 0x20803382c40>"
      ]
     },
     "execution_count": 13,
     "metadata": {},
     "output_type": "execute_result"
    }
   ],
   "source": [
    "training_steps_per_epoch = np.ceil(train_data_gen.samples / 32)\n",
    "validation_steps_per_epoch = np.ceil(validation_data_gen.samples / 32)\n",
    "\n",
    "early_stopping_cb = tf.keras.callbacks.EarlyStopping(monitor='val_loss',patience=3,restore_best_weights=True,verbose=1)\n",
    "\n",
    "model.fit(train_data_gen, steps_per_epoch = training_steps_per_epoch, validation_data=validation_data_gen, validation_steps=validation_steps_per_epoch,epochs=20, verbose=1, callbacks=[early_stopping_cb])"
   ]
  },
  {
   "cell_type": "code",
   "execution_count": 22,
   "metadata": {},
   "outputs": [
    {
     "name": "stderr",
     "output_type": "stream",
     "text": [
      "WARNING:absl:Found untraced functions such as _jit_compiled_convolution_op, _jit_compiled_convolution_op, _jit_compiled_convolution_op, _jit_compiled_convolution_op, _jit_compiled_convolution_op while saving (showing 5 of 14). These functions will not be directly callable after loading.\n"
     ]
    },
    {
     "name": "stdout",
     "output_type": "stream",
     "text": [
      "INFO:tensorflow:Assets written to: my_keras_model2\\assets\n"
     ]
    },
    {
     "name": "stderr",
     "output_type": "stream",
     "text": [
      "INFO:tensorflow:Assets written to: my_keras_model2\\assets\n"
     ]
    }
   ],
   "source": [
    "model.save(\"my_keras_model2\", save_format=\"tf\")\n"
   ]
  },
  {
   "cell_type": "code",
   "execution_count": null,
   "metadata": {},
   "outputs": [],
   "source": []
  }
 ],
 "metadata": {
  "colab": {
   "provenance": []
  },
  "kernelspec": {
   "display_name": "Python 3 (ipykernel)",
   "language": "python",
   "name": "python3"
  },
  "language_info": {
   "codemirror_mode": {
    "name": "ipython",
    "version": 3
   },
   "file_extension": ".py",
   "mimetype": "text/x-python",
   "name": "python",
   "nbconvert_exporter": "python",
   "pygments_lexer": "ipython3",
   "version": "3.9.13"
  }
 },
 "nbformat": 4,
 "nbformat_minor": 1
}
